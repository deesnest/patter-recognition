{
  "nbformat": 4,
  "nbformat_minor": 0,
  "metadata": {
    "colab": {
      "name": "Untitled2.ipynb",
      "private_outputs": true,
      "provenance": [],
      "authorship_tag": "ABX9TyM7jHgLW6kslqo3qHlDyQ/R",
      "include_colab_link": true
    },
    "kernelspec": {
      "name": "python3",
      "display_name": "Python 3"
    },
    "language_info": {
      "name": "python"
    },
    "accelerator": "TPU"
  },
  "cells": [
    {
      "cell_type": "markdown",
      "metadata": {
        "id": "view-in-github",
        "colab_type": "text"
      },
      "source": [
        "<a href=\"https://colab.research.google.com/github/deesnest/patter-recognition/blob/main/matplotdemo.ipynb\" target=\"_parent\"><img src=\"https://colab.research.google.com/assets/colab-badge.svg\" alt=\"Open In Colab\"/></a>"
      ]
    },
    {
      "cell_type": "code",
      "metadata": {
        "id": "CGObmhiDEjcO"
      },
      "source": [
        "import numpy as np\n",
        "from matplotlib import pyplot as plt\n"
      ],
      "execution_count": null,
      "outputs": []
    },
    {
      "cell_type": "code",
      "metadata": {
        "id": "ri48c-SDJHp9"
      },
      "source": [
        "import numpy as np\n",
        "from matplotlib import pyplot as plt\n",
        "#import matplotlib.pyplot as plt\n",
        "\n",
        "x = np.arange(1,11)\n",
        "y = 2 * x + 4\n",
        "\n",
        "plt.title(\"Graph demo\")\n",
        "plt.xlabel(\"x - values\")\n",
        "plt.ylabel(\"y -values\")\n",
        "plt.plot(x,y, \"ob\")\n",
        "plt.show()"
      ],
      "execution_count": null,
      "outputs": []
    },
    {
      "cell_type": "code",
      "metadata": {
        "id": "eJbcLLOJKA9j"
      },
      "source": [
        "import numpy as np\n",
        "import matplotlib.pyplot as plt\n",
        "\n",
        "x = np.arange(0, 3* np.pi, 0.1)\n",
        "\n",
        "y= np.sin(x)\n",
        "\n",
        "z= np.cos(x)\n",
        "\n",
        "plt.subplot(2,1,1)\n",
        "plt.title(\"Sine curve\")\n",
        "plt.plot(x,y)\n",
        "\n",
        "plt.subplot(2,1,2)\n",
        "plt.title(\"cosine curve\")\n",
        "plt.plot(x,z)\n",
        "\n",
        "plt.show()\n"
      ],
      "execution_count": null,
      "outputs": []
    },
    {
      "cell_type": "code",
      "metadata": {
        "id": "wtTjnkZ5LYym"
      },
      "source": [
        "from matplotlib import pyplot as plt\n",
        "\n",
        "x=[5,8,10]\n",
        "\n",
        "y=[12,16,6]\n",
        "\n",
        "\n",
        "x2=[6,9,11]\n",
        "y2=[6,15,7]\n",
        "\n",
        "plt.bar(x,y,align='center')\n",
        "plt.bar(x2,y2,color='g', align='center')\n",
        "plt.title(\"Bar graph demo\")\n",
        "plt.ylabel(\"y-axis\")\n",
        "plt.xlabel('x-axis')\n",
        "\n",
        "plt.show()"
      ],
      "execution_count": null,
      "outputs": []
    },
    {
      "cell_type": "code",
      "metadata": {
        "id": "M1Nx3d2aMZp0"
      },
      "source": [
        "import numpy as np\n",
        "import matplotlib.pyplot as plt\n",
        "a=np.array([22, 87, 5, 43, 56, 73, 55, 54, 11, 20, 51, 5, 79, 31, 27])\n",
        "hist,bins=np.histogram(a, bins=[0,20,40,60,80,100])\n",
        "print(hist)\n",
        "print(bins)\n",
        "\n",
        "plt.hist(a,bins=[0,20,40,60,80,100])\n",
        "plt.title(\"Demo-Histogram\")\n",
        "plt.show()"
      ],
      "execution_count": null,
      "outputs": []
    }
  ]
}